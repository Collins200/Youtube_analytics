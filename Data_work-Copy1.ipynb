{
 "cells": [
  {
   "cell_type": "code",
   "execution_count": 5,
   "id": "15b26c4a",
   "metadata": {},
   "outputs": [],
   "source": [
    "import requests\n",
    "from bs4 import BeautifulSoup\n",
    "from selenium import webdriver\n",
    "import pandas as pd\n",
    "import numpy as np"
   ]
  },
  {
   "cell_type": "code",
   "execution_count": 6,
   "id": "ea38a3a8",
   "metadata": {},
   "outputs": [],
   "source": [
    "page = requests.get(\"https://www.statista.com/statistics/1219589/youtube-penetration-worldwide-by-country/\")\n",
    "soup = BeautifulSoup(page.content, 'html.parser')\n",
    "tables = soup.find_all(\"table\")"
   ]
  },
  {
   "cell_type": "code",
   "execution_count": 168,
   "id": "b504ec09",
   "metadata": {},
   "outputs": [],
   "source": [
    "table = tables[0]\n",
    "tab_data = [[cell.text for cell in row.find_all([\"th\",\"td\"])]\n",
    "                        for row in table.find_all(\"tr\")]\n",
    "df = pd.DataFrame(tab_data)"
   ]
  },
  {
   "cell_type": "code",
   "execution_count": 169,
   "id": "8c90beeb",
   "metadata": {},
   "outputs": [
    {
     "name": "stdout",
     "output_type": "stream",
     "text": [
      "                 0                    1\n",
      "0   Characteristic  Share of population\n",
      "1      Netherlands                  95%\n",
      "2      South Korea                  94%\n",
      "3      New Zealand                93.9%\n",
      "4           Sweden                93.8%\n",
      "5           U.A.E.                93.4%\n",
      "6   United Kingdom                92.2%\n",
      "7      Switzerland                  92%\n",
      "8          Denmark                  92%\n",
      "9           Canada                91.9%\n",
      "10           Spain                91.6%\n",
      "11         Germany                91.5%\n",
      "12       Hong Kong                91.4%\n",
      "13          Israel                91.3%\n",
      "14    Saudi Arabia                90.8%\n",
      "15       Australia                89.3%\n",
      "16         Belgium                88.6%\n",
      "17          France                88.3%\n",
      "18         Ireland                88.1%\n",
      "19       Singapore                  88%\n",
      "20          Taiwan                87.3%\n",
      "21           Japan                86.7%\n",
      "22         Austria                86.1%\n",
      "23        Malaysia                84.1%\n",
      "24          Russia                80.2%\n",
      "25   United States                79.4%\n",
      "26       Argentina                78.1%\n",
      "27          Poland                  77%\n",
      "28           Italy                74.9%\n",
      "29          Greece                74.6%\n",
      "30         Romania                73.9%\n",
      "31        Portugal                73.7%\n",
      "32          Turkey                72.9%\n",
      "33          Brazil                70.6%\n",
      "34         Vietnam                68.4%\n",
      "35          Mexico                  68%\n",
      "36         Morocco                66.6%\n",
      "37        Thailand                63.3%\n",
      "38        Colombia                63.1%\n",
      "39     Philippines                61.1%\n",
      "40       Indonesia                  55%\n",
      "41    South Africa                53.3%\n",
      "42           Egypt                53.3%\n",
      "43       Worldwide                37.7%\n",
      "44           India                  37%\n",
      "45         Nigeria                26.4%\n",
      "46           Kenya                23.2%\n"
     ]
    }
   ],
   "source": [
    "print(df)"
   ]
  },
  {
   "cell_type": "code",
   "execution_count": 170,
   "id": "33db394f",
   "metadata": {},
   "outputs": [],
   "source": [
    "df = df.iloc[1: , :]"
   ]
  },
  {
   "cell_type": "code",
   "execution_count": 171,
   "id": "8a85d26f",
   "metadata": {},
   "outputs": [],
   "source": [
    "# print(df)"
   ]
  },
  {
   "cell_type": "code",
   "execution_count": 172,
   "id": "d00b089b",
   "metadata": {},
   "outputs": [],
   "source": [
    "df.columns =['name', 'data_value']"
   ]
  },
  {
   "cell_type": "code",
   "execution_count": 173,
   "id": "3ca2213a",
   "metadata": {},
   "outputs": [],
   "source": [
    "# print(df)"
   ]
  },
  {
   "cell_type": "code",
   "execution_count": 174,
   "id": "d27c1d26",
   "metadata": {},
   "outputs": [],
   "source": [
    "df.reset_index(drop=True, inplace=True)"
   ]
  },
  {
   "cell_type": "code",
   "execution_count": 175,
   "id": "2272fbf2",
   "metadata": {},
   "outputs": [],
   "source": [
    "# print(df)"
   ]
  },
  {
   "cell_type": "code",
   "execution_count": 176,
   "id": "938a00b0",
   "metadata": {},
   "outputs": [],
   "source": [
    "#Cleaning"
   ]
  },
  {
   "cell_type": "code",
   "execution_count": 177,
   "id": "49e4f74c",
   "metadata": {},
   "outputs": [],
   "source": [
    "df['data_value'] = list(map(lambda x: x[:-1], df['data_value'].values))"
   ]
  },
  {
   "cell_type": "code",
   "execution_count": 178,
   "id": "f094dd63",
   "metadata": {},
   "outputs": [],
   "source": [
    "df = df[df.name != \"Worldwide\"]"
   ]
  },
  {
   "cell_type": "code",
   "execution_count": 179,
   "id": "bb03a618",
   "metadata": {},
   "outputs": [],
   "source": [
    "df.name = df.name.apply(lambda x: 'United Arab Emirates' if 'U.A.E.' in x else x)"
   ]
  },
  {
   "cell_type": "code",
   "execution_count": 180,
   "id": "afdfa899",
   "metadata": {},
   "outputs": [],
   "source": [
    "df['data_value']=df['data_value'].astype(float).apply(np.floor)"
   ]
  },
  {
   "cell_type": "code",
   "execution_count": 181,
   "id": "7d11215e",
   "metadata": {},
   "outputs": [],
   "source": [
    "# print(df)"
   ]
  },
  {
   "cell_type": "markdown",
   "id": "d8b31f63",
   "metadata": {},
   "source": [
    "SECOND WORKING"
   ]
  },
  {
   "cell_type": "code",
   "execution_count": 182,
   "id": "429af9de",
   "metadata": {},
   "outputs": [],
   "source": [
    "import geopandas as gpd"
   ]
  },
  {
   "cell_type": "code",
   "execution_count": 183,
   "id": "e53fd585",
   "metadata": {},
   "outputs": [],
   "source": [
    "#read the world_shape_file"
   ]
  },
  {
   "cell_type": "code",
   "execution_count": 184,
   "id": "1ed170ab",
   "metadata": {},
   "outputs": [],
   "source": [
    "world_data=gpd.read_file(r'/home/collins/Documents/APPLICATION/Data/qgis_world_shapefile.shp')"
   ]
  },
  {
   "cell_type": "code",
   "execution_count": 185,
   "id": "29212128",
   "metadata": {},
   "outputs": [],
   "source": [
    "# print(world_data)"
   ]
  },
  {
   "cell_type": "code",
   "execution_count": 186,
   "id": "c33e8d58",
   "metadata": {},
   "outputs": [],
   "source": [
    "world_data=world_data.dropna()"
   ]
  },
  {
   "cell_type": "code",
   "execution_count": 187,
   "id": "6dd9c894",
   "metadata": {},
   "outputs": [],
   "source": [
    "# world_data.columns"
   ]
  },
  {
   "cell_type": "code",
   "execution_count": 188,
   "id": "48a24f96",
   "metadata": {},
   "outputs": [],
   "source": [
    "world_data=world_data[['NAME','iso_a2','ISO_A3','geometry']]\n"
   ]
  },
  {
   "cell_type": "code",
   "execution_count": 189,
   "id": "46486555",
   "metadata": {},
   "outputs": [],
   "source": [
    "df.name = df.name.apply(lambda x: 'United States of America' if 'United States' in x else x)"
   ]
  },
  {
   "cell_type": "code",
   "execution_count": 190,
   "id": "271fb03f",
   "metadata": {},
   "outputs": [],
   "source": [
    "for items in df['name'].tolist():\n",
    "    world_data_list=world_data['NAME'].tolist()\n",
    "    if items in world_data_list:\n",
    "        pass\n",
    "    else:\n",
    "        print(items,' is not in the world_data_list')"
   ]
  },
  {
   "cell_type": "code",
   "execution_count": 191,
   "id": "5f29ec4f",
   "metadata": {},
   "outputs": [],
   "source": [
    "# df.columns"
   ]
  },
  {
   "cell_type": "code",
   "execution_count": 192,
   "id": "8994d50e",
   "metadata": {},
   "outputs": [],
   "source": [
    "df = df.rename(columns = {'name': 'NAME','data_value':'Dvalue'}, inplace = False)"
   ]
  },
  {
   "cell_type": "code",
   "execution_count": 193,
   "id": "07f5ad35",
   "metadata": {},
   "outputs": [],
   "source": [
    "# df=pd.merge(df, world_data, left_on='NAME', right_on='NAME')"
   ]
  },
  {
   "cell_type": "code",
   "execution_count": 194,
   "id": "9887da02",
   "metadata": {},
   "outputs": [],
   "source": [
    "df = pd.merge(world_data, df, on='NAME', how='outer')"
   ]
  },
  {
   "cell_type": "code",
   "execution_count": 195,
   "id": "3350158c",
   "metadata": {},
   "outputs": [
    {
     "data": {
      "text/html": [
       "<div>\n",
       "<style scoped>\n",
       "    .dataframe tbody tr th:only-of-type {\n",
       "        vertical-align: middle;\n",
       "    }\n",
       "\n",
       "    .dataframe tbody tr th {\n",
       "        vertical-align: top;\n",
       "    }\n",
       "\n",
       "    .dataframe thead th {\n",
       "        text-align: right;\n",
       "    }\n",
       "</style>\n",
       "<table border=\"1\" class=\"dataframe\">\n",
       "  <thead>\n",
       "    <tr style=\"text-align: right;\">\n",
       "      <th></th>\n",
       "      <th>NAME</th>\n",
       "      <th>iso_a2</th>\n",
       "      <th>ISO_A3</th>\n",
       "      <th>geometry</th>\n",
       "      <th>Dvalue</th>\n",
       "    </tr>\n",
       "  </thead>\n",
       "  <tbody>\n",
       "    <tr>\n",
       "      <th>0</th>\n",
       "      <td>Norway</td>\n",
       "      <td>NO</td>\n",
       "      <td>NOR</td>\n",
       "      <td>MULTIPOLYGON (((3.45729 -54.39007, 3.48666 -54...</td>\n",
       "      <td>NaN</td>\n",
       "    </tr>\n",
       "    <tr>\n",
       "      <th>1</th>\n",
       "      <td>Sweden</td>\n",
       "      <td>SE</td>\n",
       "      <td>SWE</td>\n",
       "      <td>MULTIPOLYGON (((15.70533 56.11640, 15.72690 56...</td>\n",
       "      <td>93.0</td>\n",
       "    </tr>\n",
       "    <tr>\n",
       "      <th>2</th>\n",
       "      <td>Germany</td>\n",
       "      <td>DE</td>\n",
       "      <td>DEU</td>\n",
       "      <td>MULTIPOLYGON (((6.79811 53.60444, 6.72242 53.5...</td>\n",
       "      <td>91.0</td>\n",
       "    </tr>\n",
       "    <tr>\n",
       "      <th>3</th>\n",
       "      <td>Netherlands</td>\n",
       "      <td>NL</td>\n",
       "      <td>NLD</td>\n",
       "      <td>MULTIPOLYGON (((-68.21154 12.22809, -68.19001 ...</td>\n",
       "      <td>95.0</td>\n",
       "    </tr>\n",
       "    <tr>\n",
       "      <th>4</th>\n",
       "      <td>Russia</td>\n",
       "      <td>RU</td>\n",
       "      <td>RUS</td>\n",
       "      <td>MULTIPOLYGON (((47.99708 45.46784, 47.99684 45...</td>\n",
       "      <td>80.0</td>\n",
       "    </tr>\n",
       "    <tr>\n",
       "      <th>...</th>\n",
       "      <td>...</td>\n",
       "      <td>...</td>\n",
       "      <td>...</td>\n",
       "      <td>...</td>\n",
       "      <td>...</td>\n",
       "    </tr>\n",
       "    <tr>\n",
       "      <th>233</th>\n",
       "      <td>Nepal</td>\n",
       "      <td>NP</td>\n",
       "      <td>NPL</td>\n",
       "      <td>POLYGON ((85.08187 28.33170, 85.10941 28.29225...</td>\n",
       "      <td>NaN</td>\n",
       "    </tr>\n",
       "    <tr>\n",
       "      <th>234</th>\n",
       "      <td>Lesotho</td>\n",
       "      <td>LS</td>\n",
       "      <td>LSO</td>\n",
       "      <td>POLYGON ((28.35560 -30.17324, 28.29438 -30.242...</td>\n",
       "      <td>NaN</td>\n",
       "    </tr>\n",
       "    <tr>\n",
       "      <th>235</th>\n",
       "      <td>Niger</td>\n",
       "      <td>NE</td>\n",
       "      <td>NER</td>\n",
       "      <td>POLYGON ((6.75388 13.17490, 6.67254 13.32118, ...</td>\n",
       "      <td>NaN</td>\n",
       "    </tr>\n",
       "    <tr>\n",
       "      <th>236</th>\n",
       "      <td>W. Sahara</td>\n",
       "      <td>EH</td>\n",
       "      <td>ESH</td>\n",
       "      <td>POLYGON ((-8.68239 27.66144, -8.68239 27.28542...</td>\n",
       "      <td>NaN</td>\n",
       "    </tr>\n",
       "    <tr>\n",
       "      <th>237</th>\n",
       "      <td>Montserrat</td>\n",
       "      <td>MS</td>\n",
       "      <td>MSR</td>\n",
       "      <td>POLYGON ((-62.15079 16.72036, -62.14053 16.696...</td>\n",
       "      <td>NaN</td>\n",
       "    </tr>\n",
       "  </tbody>\n",
       "</table>\n",
       "<p>238 rows × 5 columns</p>\n",
       "</div>"
      ],
      "text/plain": [
       "            NAME iso_a2 ISO_A3  \\\n",
       "0         Norway     NO    NOR   \n",
       "1         Sweden     SE    SWE   \n",
       "2        Germany     DE    DEU   \n",
       "3    Netherlands     NL    NLD   \n",
       "4         Russia     RU    RUS   \n",
       "..           ...    ...    ...   \n",
       "233        Nepal     NP    NPL   \n",
       "234      Lesotho     LS    LSO   \n",
       "235        Niger     NE    NER   \n",
       "236    W. Sahara     EH    ESH   \n",
       "237   Montserrat     MS    MSR   \n",
       "\n",
       "                                              geometry  Dvalue  \n",
       "0    MULTIPOLYGON (((3.45729 -54.39007, 3.48666 -54...     NaN  \n",
       "1    MULTIPOLYGON (((15.70533 56.11640, 15.72690 56...    93.0  \n",
       "2    MULTIPOLYGON (((6.79811 53.60444, 6.72242 53.5...    91.0  \n",
       "3    MULTIPOLYGON (((-68.21154 12.22809, -68.19001 ...    95.0  \n",
       "4    MULTIPOLYGON (((47.99708 45.46784, 47.99684 45...    80.0  \n",
       "..                                                 ...     ...  \n",
       "233  POLYGON ((85.08187 28.33170, 85.10941 28.29225...     NaN  \n",
       "234  POLYGON ((28.35560 -30.17324, 28.29438 -30.242...     NaN  \n",
       "235  POLYGON ((6.75388 13.17490, 6.67254 13.32118, ...     NaN  \n",
       "236  POLYGON ((-8.68239 27.66144, -8.68239 27.28542...     NaN  \n",
       "237  POLYGON ((-62.15079 16.72036, -62.14053 16.696...     NaN  \n",
       "\n",
       "[238 rows x 5 columns]"
      ]
     },
     "execution_count": 195,
     "metadata": {},
     "output_type": "execute_result"
    }
   ],
   "source": [
    "df"
   ]
  },
  {
   "cell_type": "code",
   "execution_count": 196,
   "id": "d0e28e72",
   "metadata": {},
   "outputs": [
    {
     "name": "stdout",
     "output_type": "stream",
     "text": [
      "<class 'geopandas.geodataframe.GeoDataFrame'>\n",
      "Int64Index: 238 entries, 0 to 237\n",
      "Data columns (total 5 columns):\n",
      " #   Column    Non-Null Count  Dtype   \n",
      "---  ------    --------------  -----   \n",
      " 0   NAME      238 non-null    object  \n",
      " 1   iso_a2    238 non-null    object  \n",
      " 2   ISO_A3    238 non-null    object  \n",
      " 3   geometry  238 non-null    geometry\n",
      " 4   Dvalue    45 non-null     float64 \n",
      "dtypes: float64(1), geometry(1), object(3)\n",
      "memory usage: 11.2+ KB\n"
     ]
    }
   ],
   "source": [
    "df.info()"
   ]
  },
  {
   "cell_type": "code",
   "execution_count": 197,
   "id": "9ed91ab7",
   "metadata": {},
   "outputs": [],
   "source": [
    "# df=df.dropna()"
   ]
  },
  {
   "cell_type": "code",
   "execution_count": 198,
   "id": "7e136932",
   "metadata": {},
   "outputs": [],
   "source": [
    "df=df.fillna(0.0)"
   ]
  },
  {
   "cell_type": "code",
   "execution_count": 199,
   "id": "880c43d9",
   "metadata": {},
   "outputs": [],
   "source": [
    "# df=df.dropna()"
   ]
  },
  {
   "cell_type": "code",
   "execution_count": 200,
   "id": "4734c04a",
   "metadata": {},
   "outputs": [
    {
     "name": "stdout",
     "output_type": "stream",
     "text": [
      "<class 'geopandas.geodataframe.GeoDataFrame'>\n",
      "Int64Index: 238 entries, 0 to 237\n",
      "Data columns (total 5 columns):\n",
      " #   Column    Non-Null Count  Dtype   \n",
      "---  ------    --------------  -----   \n",
      " 0   NAME      238 non-null    object  \n",
      " 1   iso_a2    238 non-null    object  \n",
      " 2   ISO_A3    238 non-null    object  \n",
      " 3   geometry  238 non-null    geometry\n",
      " 4   Dvalue    238 non-null    float64 \n",
      "dtypes: float64(1), geometry(1), object(3)\n",
      "memory usage: 11.2+ KB\n"
     ]
    }
   ],
   "source": [
    "df.info()"
   ]
  },
  {
   "cell_type": "code",
   "execution_count": 201,
   "id": "328bc18a",
   "metadata": {},
   "outputs": [
    {
     "data": {
      "text/plain": [
       "geopandas.geodataframe.GeoDataFrame"
      ]
     },
     "execution_count": 201,
     "metadata": {},
     "output_type": "execute_result"
    }
   ],
   "source": [
    "type(df)"
   ]
  },
  {
   "cell_type": "code",
   "execution_count": 202,
   "id": "c2395a58",
   "metadata": {},
   "outputs": [],
   "source": [
    "# df.to_file(r\"/home/collins/Documents/APPLICATION/Data/combined1.shp\")"
   ]
  },
  {
   "cell_type": "code",
   "execution_count": 203,
   "id": "dafb2977",
   "metadata": {},
   "outputs": [],
   "source": [
    "df.to_file(r\"/home/collins/Documents/APPLICATION/Data/geodata.shp\")"
   ]
  },
  {
   "cell_type": "code",
   "execution_count": null,
   "id": "f3aa355f",
   "metadata": {},
   "outputs": [],
   "source": []
  },
  {
   "cell_type": "code",
   "execution_count": null,
   "id": "13f13a6b",
   "metadata": {},
   "outputs": [],
   "source": []
  }
 ],
 "metadata": {
  "kernelspec": {
   "display_name": "Python 3",
   "language": "python",
   "name": "python3"
  },
  "language_info": {
   "codemirror_mode": {
    "name": "ipython",
    "version": 3
   },
   "file_extension": ".py",
   "mimetype": "text/x-python",
   "name": "python",
   "nbconvert_exporter": "python",
   "pygments_lexer": "ipython3",
   "version": "3.9.7"
  }
 },
 "nbformat": 4,
 "nbformat_minor": 5
}
