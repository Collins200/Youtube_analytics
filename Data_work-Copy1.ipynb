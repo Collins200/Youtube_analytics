{
 "cells": [
  {
   "cell_type": "code",
   "execution_count": 1,
   "id": "dff2a8fe",
   "metadata": {},
   "outputs": [],
   "source": [
    "import pycountry"
   ]
  },
  {
   "cell_type": "code",
   "execution_count": 2,
   "id": "60bf105e",
   "metadata": {},
   "outputs": [],
   "source": [
    "import pandas as pd"
   ]
  },
  {
   "cell_type": "code",
   "execution_count": 3,
   "id": "2e3b8d58",
   "metadata": {},
   "outputs": [],
   "source": [
    "from bs4 import BeautifulSoup"
   ]
  },
  {
   "cell_type": "code",
   "execution_count": 4,
   "id": "15b26c4a",
   "metadata": {},
   "outputs": [],
   "source": [
    "import requests\n",
    "from bs4 import BeautifulSoup\n",
    "from selenium import webdriver\n",
    "import pandas as pd"
   ]
  },
  {
   "cell_type": "code",
   "execution_count": 5,
   "id": "ea38a3a8",
   "metadata": {},
   "outputs": [],
   "source": [
    "page = requests.get(\"https://www.statista.com/statistics/1219589/youtube-penetration-worldwide-by-country/\")\n",
    "soup = BeautifulSoup(page.content, 'html.parser')\n",
    "tables = soup.find_all(\"table\")"
   ]
  },
  {
   "cell_type": "code",
   "execution_count": 6,
   "id": "b504ec09",
   "metadata": {},
   "outputs": [],
   "source": [
    "table = tables[0]\n",
    "tab_data = [[cell.text for cell in row.find_all([\"th\",\"td\"])]\n",
    "                        for row in table.find_all(\"tr\")]\n",
    "df = pd.DataFrame(tab_data)"
   ]
  },
  {
   "cell_type": "code",
   "execution_count": 7,
   "id": "8c90beeb",
   "metadata": {},
   "outputs": [],
   "source": [
    "# print(df)"
   ]
  },
  {
   "cell_type": "code",
   "execution_count": 8,
   "id": "33db394f",
   "metadata": {},
   "outputs": [],
   "source": [
    "df = df.iloc[1: , :]"
   ]
  },
  {
   "cell_type": "code",
   "execution_count": 9,
   "id": "8a85d26f",
   "metadata": {},
   "outputs": [],
   "source": [
    "# print(df)"
   ]
  },
  {
   "cell_type": "code",
   "execution_count": 10,
   "id": "d00b089b",
   "metadata": {},
   "outputs": [],
   "source": [
    "df.columns =['name', 'data_value']"
   ]
  },
  {
   "cell_type": "code",
   "execution_count": 32,
   "id": "3ca2213a",
   "metadata": {},
   "outputs": [],
   "source": [
    "# print(df)"
   ]
  },
  {
   "cell_type": "code",
   "execution_count": 12,
   "id": "d27c1d26",
   "metadata": {},
   "outputs": [],
   "source": [
    "df.reset_index(drop=True, inplace=True)"
   ]
  },
  {
   "cell_type": "code",
   "execution_count": 13,
   "id": "2272fbf2",
   "metadata": {},
   "outputs": [],
   "source": [
    "# print(df)"
   ]
  },
  {
   "cell_type": "code",
   "execution_count": 14,
   "id": "938a00b0",
   "metadata": {},
   "outputs": [],
   "source": [
    "#Cleaning"
   ]
  },
  {
   "cell_type": "code",
   "execution_count": 15,
   "id": "49e4f74c",
   "metadata": {},
   "outputs": [],
   "source": [
    "df['data_value'] = list(map(lambda x: x[:-1], df['data_value'].values))"
   ]
  },
  {
   "cell_type": "code",
   "execution_count": 16,
   "id": "f094dd63",
   "metadata": {},
   "outputs": [],
   "source": [
    "df = df[df.name != \"Worldwide\"]"
   ]
  },
  {
   "cell_type": "code",
   "execution_count": 17,
   "id": "bb03a618",
   "metadata": {},
   "outputs": [],
   "source": [
    "df.name = df.name.apply(lambda x: 'United Arab Emirates' if 'U.A.E.' in x else x)"
   ]
  },
  {
   "cell_type": "code",
   "execution_count": 18,
   "id": "7d11215e",
   "metadata": {},
   "outputs": [],
   "source": [
    "# print(df)"
   ]
  },
  {
   "cell_type": "markdown",
   "id": "d8b31f63",
   "metadata": {},
   "source": [
    "SECOND WORKING"
   ]
  },
  {
   "cell_type": "code",
   "execution_count": 19,
   "id": "429af9de",
   "metadata": {},
   "outputs": [],
   "source": [
    "import geopandas as gpd"
   ]
  },
  {
   "cell_type": "code",
   "execution_count": 20,
   "id": "e53fd585",
   "metadata": {},
   "outputs": [],
   "source": [
    "#read the world_shape_file"
   ]
  },
  {
   "cell_type": "code",
   "execution_count": 21,
   "id": "1ed170ab",
   "metadata": {},
   "outputs": [],
   "source": [
    "world_data=gpd.read_file(r'/home/collins/Documents/APPLICATION/Data/qgis_world_shapefile.shp')"
   ]
  },
  {
   "cell_type": "code",
   "execution_count": 22,
   "id": "29212128",
   "metadata": {},
   "outputs": [],
   "source": [
    "# print(world_data)"
   ]
  },
  {
   "cell_type": "code",
   "execution_count": 23,
   "id": "6dd9c894",
   "metadata": {},
   "outputs": [
    {
     "data": {
      "text/plain": [
       "Index(['fid', 'iso_a2', 'NAME', 'FIPS_10_', 'ISO_A3', 'WB_A2', 'WB_A3',\n",
       "       'geometry'],\n",
       "      dtype='object')"
      ]
     },
     "execution_count": 23,
     "metadata": {},
     "output_type": "execute_result"
    }
   ],
   "source": [
    "# world_data.columns"
   ]
  },
  {
   "cell_type": "code",
   "execution_count": 24,
   "id": "48a24f96",
   "metadata": {},
   "outputs": [],
   "source": [
    "world_data=world_data[['NAME','iso_a2','ISO_A3','geometry']]\n"
   ]
  },
  {
   "cell_type": "code",
   "execution_count": 25,
   "id": "46486555",
   "metadata": {},
   "outputs": [],
   "source": [
    "df.name = df.name.apply(lambda x: 'United States of America' if 'United States' in x else x)"
   ]
  },
  {
   "cell_type": "code",
   "execution_count": 26,
   "id": "271fb03f",
   "metadata": {},
   "outputs": [],
   "source": [
    "for items in df['name'].tolist():\n",
    "    world_data_list=world_data['NAME'].tolist()\n",
    "    if items in world_data_list:\n",
    "        pass\n",
    "    else:\n",
    "        print(items,' is not in the world_data_list')"
   ]
  },
  {
   "cell_type": "code",
   "execution_count": 27,
   "id": "5f29ec4f",
   "metadata": {},
   "outputs": [],
   "source": [
    "# df.columns"
   ]
  },
  {
   "cell_type": "code",
   "execution_count": 28,
   "id": "8994d50e",
   "metadata": {},
   "outputs": [],
   "source": [
    "df = df.rename(columns = {'name': 'NAME','data_value':'value'}, inplace = False)"
   ]
  },
  {
   "cell_type": "code",
   "execution_count": 29,
   "id": "9887da02",
   "metadata": {},
   "outputs": [],
   "source": [
    "df = pd.merge(world_data, df, on='NAME', how='outer')"
   ]
  },
  {
   "cell_type": "code",
   "execution_count": 30,
   "id": "3350158c",
   "metadata": {},
   "outputs": [],
   "source": [
    "# df"
   ]
  },
  {
   "cell_type": "code",
   "execution_count": 31,
   "id": "7e136932",
   "metadata": {},
   "outputs": [],
   "source": [
    "df=df.fillna(0)"
   ]
  },
  {
   "cell_type": "code",
   "execution_count": null,
   "id": "c2395a58",
   "metadata": {},
   "outputs": [],
   "source": []
  }
 ],
 "metadata": {
  "kernelspec": {
   "display_name": "Python 3",
   "language": "python",
   "name": "python3"
  },
  "language_info": {
   "codemirror_mode": {
    "name": "ipython",
    "version": 3
   },
   "file_extension": ".py",
   "mimetype": "text/x-python",
   "name": "python",
   "nbconvert_exporter": "python",
   "pygments_lexer": "ipython3",
   "version": "3.9.7"
  }
 },
 "nbformat": 4,
 "nbformat_minor": 5
}
