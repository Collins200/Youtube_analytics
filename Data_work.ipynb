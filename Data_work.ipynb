{
 "cells": [
  {
   "cell_type": "code",
   "execution_count": 23,
   "id": "dff2a8fe",
   "metadata": {},
   "outputs": [],
   "source": [
    "import pycountry"
   ]
  },
  {
   "cell_type": "code",
   "execution_count": 24,
   "id": "60bf105e",
   "metadata": {},
   "outputs": [],
   "source": [
    "import pandas as pd"
   ]
  },
  {
   "cell_type": "code",
   "execution_count": 25,
   "id": "2e3b8d58",
   "metadata": {},
   "outputs": [],
   "source": [
    "from bs4 import BeautifulSoup"
   ]
  },
  {
   "cell_type": "code",
   "execution_count": 26,
   "id": "15b26c4a",
   "metadata": {},
   "outputs": [],
   "source": [
    "import requests\n",
    "from bs4 import BeautifulSoup\n",
    "from selenium import webdriver\n",
    "import pandas as pd"
   ]
  },
  {
   "cell_type": "code",
   "execution_count": 27,
   "id": "ea38a3a8",
   "metadata": {},
   "outputs": [],
   "source": [
    "page = requests.get(\"https://www.statista.com/statistics/1219589/youtube-penetration-worldwide-by-country/\")\n",
    "soup = BeautifulSoup(page.content, 'html.parser')\n",
    "tables = soup.find_all(\"table\")"
   ]
  },
  {
   "cell_type": "code",
   "execution_count": 28,
   "id": "b504ec09",
   "metadata": {},
   "outputs": [],
   "source": [
    "table = tables[0]\n",
    "tab_data = [[cell.text for cell in row.find_all([\"th\",\"td\"])]\n",
    "                        for row in table.find_all(\"tr\")]\n",
    "df = pd.DataFrame(tab_data)"
   ]
  },
  {
   "cell_type": "code",
   "execution_count": 29,
   "id": "8c90beeb",
   "metadata": {},
   "outputs": [
    {
     "name": "stdout",
     "output_type": "stream",
     "text": [
      "                 0                    1\n",
      "0   Characteristic  Share of population\n",
      "1      Netherlands                  95%\n",
      "2      South Korea                  94%\n",
      "3      New Zealand                93.9%\n",
      "4           Sweden                93.8%\n",
      "5           U.A.E.                93.4%\n",
      "6   United Kingdom                92.2%\n",
      "7      Switzerland                  92%\n",
      "8          Denmark                  92%\n",
      "9           Canada                91.9%\n",
      "10           Spain                91.6%\n",
      "11         Germany                91.5%\n",
      "12       Hong Kong                91.4%\n",
      "13          Israel                91.3%\n",
      "14    Saudi Arabia                90.8%\n",
      "15       Australia                89.3%\n",
      "16         Belgium                88.6%\n",
      "17          France                88.3%\n",
      "18         Ireland                88.1%\n",
      "19       Singapore                  88%\n",
      "20          Taiwan                87.3%\n",
      "21           Japan                86.7%\n",
      "22         Austria                86.1%\n",
      "23        Malaysia                84.1%\n",
      "24          Russia                80.2%\n",
      "25   United States                79.4%\n",
      "26       Argentina                78.1%\n",
      "27          Poland                  77%\n",
      "28           Italy                74.9%\n",
      "29          Greece                74.6%\n",
      "30         Romania                73.9%\n",
      "31        Portugal                73.7%\n",
      "32          Turkey                72.9%\n",
      "33          Brazil                70.6%\n",
      "34         Vietnam                68.4%\n",
      "35          Mexico                  68%\n",
      "36         Morocco                66.6%\n",
      "37        Thailand                63.3%\n",
      "38        Colombia                63.1%\n",
      "39     Philippines                61.1%\n",
      "40       Indonesia                  55%\n",
      "41    South Africa                53.3%\n",
      "42           Egypt                53.3%\n",
      "43       Worldwide                37.7%\n",
      "44           India                  37%\n",
      "45         Nigeria                26.4%\n",
      "46           Kenya                23.2%\n"
     ]
    }
   ],
   "source": [
    "print(df)"
   ]
  },
  {
   "cell_type": "code",
   "execution_count": 30,
   "id": "33db394f",
   "metadata": {},
   "outputs": [],
   "source": [
    "df = df.iloc[1: , :]"
   ]
  },
  {
   "cell_type": "code",
   "execution_count": 31,
   "id": "8a85d26f",
   "metadata": {},
   "outputs": [
    {
     "name": "stdout",
     "output_type": "stream",
     "text": [
      "                 0      1\n",
      "1      Netherlands    95%\n",
      "2      South Korea    94%\n",
      "3      New Zealand  93.9%\n",
      "4           Sweden  93.8%\n",
      "5           U.A.E.  93.4%\n",
      "6   United Kingdom  92.2%\n",
      "7      Switzerland    92%\n",
      "8          Denmark    92%\n",
      "9           Canada  91.9%\n",
      "10           Spain  91.6%\n",
      "11         Germany  91.5%\n",
      "12       Hong Kong  91.4%\n",
      "13          Israel  91.3%\n",
      "14    Saudi Arabia  90.8%\n",
      "15       Australia  89.3%\n",
      "16         Belgium  88.6%\n",
      "17          France  88.3%\n",
      "18         Ireland  88.1%\n",
      "19       Singapore    88%\n",
      "20          Taiwan  87.3%\n",
      "21           Japan  86.7%\n",
      "22         Austria  86.1%\n",
      "23        Malaysia  84.1%\n",
      "24          Russia  80.2%\n",
      "25   United States  79.4%\n",
      "26       Argentina  78.1%\n",
      "27          Poland    77%\n",
      "28           Italy  74.9%\n",
      "29          Greece  74.6%\n",
      "30         Romania  73.9%\n",
      "31        Portugal  73.7%\n",
      "32          Turkey  72.9%\n",
      "33          Brazil  70.6%\n",
      "34         Vietnam  68.4%\n",
      "35          Mexico    68%\n",
      "36         Morocco  66.6%\n",
      "37        Thailand  63.3%\n",
      "38        Colombia  63.1%\n",
      "39     Philippines  61.1%\n",
      "40       Indonesia    55%\n",
      "41    South Africa  53.3%\n",
      "42           Egypt  53.3%\n",
      "43       Worldwide  37.7%\n",
      "44           India    37%\n",
      "45         Nigeria  26.4%\n",
      "46           Kenya  23.2%\n"
     ]
    }
   ],
   "source": [
    "print(df)"
   ]
  },
  {
   "cell_type": "code",
   "execution_count": 32,
   "id": "d00b089b",
   "metadata": {},
   "outputs": [],
   "source": [
    "df.columns =['name', 'data_value']"
   ]
  },
  {
   "cell_type": "code",
   "execution_count": 33,
   "id": "3ca2213a",
   "metadata": {},
   "outputs": [
    {
     "name": "stdout",
     "output_type": "stream",
     "text": [
      "              name data_value\n",
      "1      Netherlands        95%\n",
      "2      South Korea        94%\n",
      "3      New Zealand      93.9%\n",
      "4           Sweden      93.8%\n",
      "5           U.A.E.      93.4%\n",
      "6   United Kingdom      92.2%\n",
      "7      Switzerland        92%\n",
      "8          Denmark        92%\n",
      "9           Canada      91.9%\n",
      "10           Spain      91.6%\n",
      "11         Germany      91.5%\n",
      "12       Hong Kong      91.4%\n",
      "13          Israel      91.3%\n",
      "14    Saudi Arabia      90.8%\n",
      "15       Australia      89.3%\n",
      "16         Belgium      88.6%\n",
      "17          France      88.3%\n",
      "18         Ireland      88.1%\n",
      "19       Singapore        88%\n",
      "20          Taiwan      87.3%\n",
      "21           Japan      86.7%\n",
      "22         Austria      86.1%\n",
      "23        Malaysia      84.1%\n",
      "24          Russia      80.2%\n",
      "25   United States      79.4%\n",
      "26       Argentina      78.1%\n",
      "27          Poland        77%\n",
      "28           Italy      74.9%\n",
      "29          Greece      74.6%\n",
      "30         Romania      73.9%\n",
      "31        Portugal      73.7%\n",
      "32          Turkey      72.9%\n",
      "33          Brazil      70.6%\n",
      "34         Vietnam      68.4%\n",
      "35          Mexico        68%\n",
      "36         Morocco      66.6%\n",
      "37        Thailand      63.3%\n",
      "38        Colombia      63.1%\n",
      "39     Philippines      61.1%\n",
      "40       Indonesia        55%\n",
      "41    South Africa      53.3%\n",
      "42           Egypt      53.3%\n",
      "43       Worldwide      37.7%\n",
      "44           India        37%\n",
      "45         Nigeria      26.4%\n",
      "46           Kenya      23.2%\n"
     ]
    }
   ],
   "source": [
    "print(df)"
   ]
  },
  {
   "cell_type": "code",
   "execution_count": 34,
   "id": "d27c1d26",
   "metadata": {},
   "outputs": [],
   "source": [
    "df.reset_index(drop=True, inplace=True)"
   ]
  },
  {
   "cell_type": "code",
   "execution_count": 35,
   "id": "2272fbf2",
   "metadata": {},
   "outputs": [
    {
     "name": "stdout",
     "output_type": "stream",
     "text": [
      "              name data_value\n",
      "0      Netherlands        95%\n",
      "1      South Korea        94%\n",
      "2      New Zealand      93.9%\n",
      "3           Sweden      93.8%\n",
      "4           U.A.E.      93.4%\n",
      "5   United Kingdom      92.2%\n",
      "6      Switzerland        92%\n",
      "7          Denmark        92%\n",
      "8           Canada      91.9%\n",
      "9            Spain      91.6%\n",
      "10         Germany      91.5%\n",
      "11       Hong Kong      91.4%\n",
      "12          Israel      91.3%\n",
      "13    Saudi Arabia      90.8%\n",
      "14       Australia      89.3%\n",
      "15         Belgium      88.6%\n",
      "16          France      88.3%\n",
      "17         Ireland      88.1%\n",
      "18       Singapore        88%\n",
      "19          Taiwan      87.3%\n",
      "20           Japan      86.7%\n",
      "21         Austria      86.1%\n",
      "22        Malaysia      84.1%\n",
      "23          Russia      80.2%\n",
      "24   United States      79.4%\n",
      "25       Argentina      78.1%\n",
      "26          Poland        77%\n",
      "27           Italy      74.9%\n",
      "28          Greece      74.6%\n",
      "29         Romania      73.9%\n",
      "30        Portugal      73.7%\n",
      "31          Turkey      72.9%\n",
      "32          Brazil      70.6%\n",
      "33         Vietnam      68.4%\n",
      "34          Mexico        68%\n",
      "35         Morocco      66.6%\n",
      "36        Thailand      63.3%\n",
      "37        Colombia      63.1%\n",
      "38     Philippines      61.1%\n",
      "39       Indonesia        55%\n",
      "40    South Africa      53.3%\n",
      "41           Egypt      53.3%\n",
      "42       Worldwide      37.7%\n",
      "43           India        37%\n",
      "44         Nigeria      26.4%\n",
      "45           Kenya      23.2%\n"
     ]
    }
   ],
   "source": [
    "print(df)"
   ]
  },
  {
   "cell_type": "code",
   "execution_count": 36,
   "id": "938a00b0",
   "metadata": {},
   "outputs": [],
   "source": [
    "#Cleaning"
   ]
  },
  {
   "cell_type": "code",
   "execution_count": 37,
   "id": "49e4f74c",
   "metadata": {},
   "outputs": [],
   "source": [
    "df['data_value'] = list(map(lambda x: x[:-1], df['data_value'].values))"
   ]
  },
  {
   "cell_type": "code",
   "execution_count": 38,
   "id": "f094dd63",
   "metadata": {},
   "outputs": [],
   "source": [
    "df = df[df.name != \"Worldwide\"]"
   ]
  },
  {
   "cell_type": "code",
   "execution_count": 39,
   "id": "bb03a618",
   "metadata": {},
   "outputs": [],
   "source": [
    "df.name = df.name.apply(lambda x: 'United Arab Emirates' if 'U.A.E.' in x else x)"
   ]
  },
  {
   "cell_type": "code",
   "execution_count": 40,
   "id": "7d11215e",
   "metadata": {},
   "outputs": [
    {
     "name": "stdout",
     "output_type": "stream",
     "text": [
      "                    name data_value\n",
      "0            Netherlands         95\n",
      "1            South Korea         94\n",
      "2            New Zealand       93.9\n",
      "3                 Sweden       93.8\n",
      "4   United Arab Emirates       93.4\n",
      "5         United Kingdom       92.2\n",
      "6            Switzerland         92\n",
      "7                Denmark         92\n",
      "8                 Canada       91.9\n",
      "9                  Spain       91.6\n",
      "10               Germany       91.5\n",
      "11             Hong Kong       91.4\n",
      "12                Israel       91.3\n",
      "13          Saudi Arabia       90.8\n",
      "14             Australia       89.3\n",
      "15               Belgium       88.6\n",
      "16                France       88.3\n",
      "17               Ireland       88.1\n",
      "18             Singapore         88\n",
      "19                Taiwan       87.3\n",
      "20                 Japan       86.7\n",
      "21               Austria       86.1\n",
      "22              Malaysia       84.1\n",
      "23                Russia       80.2\n",
      "24         United States       79.4\n",
      "25             Argentina       78.1\n",
      "26                Poland         77\n",
      "27                 Italy       74.9\n",
      "28                Greece       74.6\n",
      "29               Romania       73.9\n",
      "30              Portugal       73.7\n",
      "31                Turkey       72.9\n",
      "32                Brazil       70.6\n",
      "33               Vietnam       68.4\n",
      "34                Mexico         68\n",
      "35               Morocco       66.6\n",
      "36              Thailand       63.3\n",
      "37              Colombia       63.1\n",
      "38           Philippines       61.1\n",
      "39             Indonesia         55\n",
      "40          South Africa       53.3\n",
      "41                 Egypt       53.3\n",
      "43                 India         37\n",
      "44               Nigeria       26.4\n",
      "45                 Kenya       23.2\n"
     ]
    }
   ],
   "source": [
    "print(df)"
   ]
  },
  {
   "cell_type": "code",
   "execution_count": 41,
   "id": "8a9b7f8a",
   "metadata": {},
   "outputs": [],
   "source": [
    "data=pd.read_csv('Data/data.csv', index_col=False)  "
   ]
  },
  {
   "cell_type": "code",
   "execution_count": 42,
   "id": "1c94ee8d",
   "metadata": {},
   "outputs": [],
   "source": [
    "data.reset_index(drop=True, inplace=True)"
   ]
  },
  {
   "cell_type": "code",
   "execution_count": 43,
   "id": "dde85744",
   "metadata": {},
   "outputs": [
    {
     "name": "stdout",
     "output_type": "stream",
     "text": [
      "                       name  id  data\n",
      "0               Afghanistan  AF   NaN\n",
      "1                    Angola  AO   NaN\n",
      "2                   Albania  AL   NaN\n",
      "3      United Arab Emirates  AE   NaN\n",
      "4                 Argentina  AR   NaN\n",
      "..                      ...  ..   ...\n",
      "209        Mayotte (France)  YT   NaN\n",
      "210     Martinique (France)  MQ   NaN\n",
      "211     Guadeloupe (France)  GP   NaN\n",
      "212    Curaco (Netherlands)  CW   NaN\n",
      "213  Canary Islands (Spain)  IC   NaN\n",
      "\n",
      "[214 rows x 3 columns]\n"
     ]
    }
   ],
   "source": [
    "print(data)"
   ]
  },
  {
   "cell_type": "code",
   "execution_count": 44,
   "id": "99e0bba2",
   "metadata": {},
   "outputs": [],
   "source": [
    "data.drop('data',\n",
    "  axis='columns', inplace=True)"
   ]
  },
  {
   "cell_type": "code",
   "execution_count": 45,
   "id": "f5e27ab4",
   "metadata": {},
   "outputs": [
    {
     "name": "stdout",
     "output_type": "stream",
     "text": [
      "                   name  id\n",
      "0           Afghanistan  AF\n",
      "1                Angola  AO\n",
      "2               Albania  AL\n",
      "3  United Arab Emirates  AE\n",
      "4             Argentina  AR\n"
     ]
    }
   ],
   "source": [
    "print(data.head(5))"
   ]
  },
  {
   "cell_type": "code",
   "execution_count": 48,
   "id": "553a08a7",
   "metadata": {},
   "outputs": [],
   "source": [
    "df_merge_col = pd.merge(df, data, left_on='name', right_on='name')"
   ]
  },
  {
   "cell_type": "code",
   "execution_count": 49,
   "id": "a07e57a0",
   "metadata": {},
   "outputs": [
    {
     "name": "stdout",
     "output_type": "stream",
     "text": [
      "                    name data_value  id\n",
      "0            Netherlands         95  NL\n",
      "1            New Zealand       93.9  NZ\n",
      "2                 Sweden       93.8  SE\n",
      "3   United Arab Emirates       93.4  AE\n",
      "4         United Kingdom       92.2  GB\n",
      "5            Switzerland         92  CH\n",
      "6                Denmark         92  DK\n",
      "7                 Canada       91.9  CA\n",
      "8                  Spain       91.6  ES\n",
      "9                Germany       91.5  DE\n",
      "10             Hong Kong       91.4  HK\n",
      "11                Israel       91.3  IL\n",
      "12          Saudi Arabia       90.8  SA\n",
      "13             Australia       89.3  AU\n",
      "14               Belgium       88.6  BE\n",
      "15                France       88.3  GF\n",
      "16                France       88.3  FR\n",
      "17               Ireland       88.1  IE\n",
      "18             Singapore         88  SG\n",
      "19                Taiwan       87.3  TW\n",
      "20                 Japan       86.7  JP\n",
      "21               Austria       86.1  AT\n",
      "22              Malaysia       84.1  MY\n",
      "23                Russia       80.2  RU\n",
      "24         United States       79.4  US\n",
      "25             Argentina       78.1  AR\n",
      "26                Poland         77  PL\n",
      "27                 Italy       74.9  IT\n",
      "28                Greece       74.6  GR\n",
      "29               Romania       73.9  RO\n",
      "30              Portugal       73.7  PT\n",
      "31                Turkey       72.9  TR\n",
      "32                Brazil       70.6  BR\n",
      "33               Vietnam       68.4  VN\n",
      "34                Mexico         68  MX\n",
      "35               Morocco       66.6  MA\n",
      "36              Thailand       63.3  TH\n",
      "37              Colombia       63.1  CO\n",
      "38           Philippines       61.1  PH\n",
      "39             Indonesia         55  ID\n",
      "40          South Africa       53.3  ZA\n",
      "41                 Egypt       53.3  EG\n",
      "42                 India         37  IN\n",
      "43               Nigeria       26.4  NG\n",
      "44                 Kenya       23.2  KE\n"
     ]
    }
   ],
   "source": [
    "print(df_merge_col)"
   ]
  },
  {
   "cell_type": "code",
   "execution_count": 50,
   "id": "9fbae19d",
   "metadata": {},
   "outputs": [],
   "source": [
    "df_outer = pd.merge(data, df, on='name', how='outer')"
   ]
  },
  {
   "cell_type": "code",
   "execution_count": 51,
   "id": "898d6ee2",
   "metadata": {},
   "outputs": [
    {
     "name": "stdout",
     "output_type": "stream",
     "text": [
      "                       name   id data_value\n",
      "0               Afghanistan   AF        NaN\n",
      "1                    Angola   AO        NaN\n",
      "2                   Albania   AL        NaN\n",
      "3      United Arab Emirates   AE       93.4\n",
      "4                 Argentina   AR       78.1\n",
      "..                      ...  ...        ...\n",
      "210     Martinique (France)   MQ        NaN\n",
      "211     Guadeloupe (France)   GP        NaN\n",
      "212    Curaco (Netherlands)   CW        NaN\n",
      "213  Canary Islands (Spain)   IC        NaN\n",
      "214             South Korea  NaN         94\n",
      "\n",
      "[215 rows x 3 columns]\n"
     ]
    }
   ],
   "source": [
    "print(df_outer)"
   ]
  },
  {
   "cell_type": "code",
   "execution_count": 52,
   "id": "2c9c3f45",
   "metadata": {},
   "outputs": [],
   "source": [
    "df_no_null=df_outer.fillna(0)"
   ]
  },
  {
   "cell_type": "code",
   "execution_count": 53,
   "id": "464873a3",
   "metadata": {},
   "outputs": [
    {
     "name": "stdout",
     "output_type": "stream",
     "text": [
      "                       name  id data_value\n",
      "0               Afghanistan  AF          0\n",
      "1                    Angola  AO          0\n",
      "2                   Albania  AL          0\n",
      "3      United Arab Emirates  AE       93.4\n",
      "4                 Argentina  AR       78.1\n",
      "..                      ...  ..        ...\n",
      "210     Martinique (France)  MQ          0\n",
      "211     Guadeloupe (France)  GP          0\n",
      "212    Curaco (Netherlands)  CW          0\n",
      "213  Canary Islands (Spain)  IC          0\n",
      "214             South Korea   0         94\n",
      "\n",
      "[215 rows x 3 columns]\n"
     ]
    }
   ],
   "source": [
    "print(df_no_null)"
   ]
  },
  {
   "cell_type": "code",
   "execution_count": 57,
   "id": "5285c7ac",
   "metadata": {},
   "outputs": [],
   "source": [
    "df_no_null.to_csv('Data/manipulated.csv', index=False)"
   ]
  },
  {
   "cell_type": "code",
   "execution_count": null,
   "id": "96c32888",
   "metadata": {},
   "outputs": [],
   "source": []
  }
 ],
 "metadata": {
  "kernelspec": {
   "display_name": "Python 3",
   "language": "python",
   "name": "python3"
  },
  "language_info": {
   "codemirror_mode": {
    "name": "ipython",
    "version": 3
   },
   "file_extension": ".py",
   "mimetype": "text/x-python",
   "name": "python",
   "nbconvert_exporter": "python",
   "pygments_lexer": "ipython3",
   "version": "3.9.7"
  }
 },
 "nbformat": 4,
 "nbformat_minor": 5
}
