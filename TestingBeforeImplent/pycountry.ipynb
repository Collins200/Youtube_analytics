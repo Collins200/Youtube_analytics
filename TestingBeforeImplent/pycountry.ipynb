{
 "cells": [
  {
   "cell_type": "code",
   "execution_count": 27,
   "id": "63c9c95e",
   "metadata": {},
   "outputs": [],
   "source": [
    "import pycountry"
   ]
  },
  {
   "cell_type": "code",
   "execution_count": 28,
   "id": "88e1f798",
   "metadata": {},
   "outputs": [],
   "source": [
    "import pandas as pd"
   ]
  },
  {
   "cell_type": "code",
   "execution_count": 29,
   "id": "6be557f3",
   "metadata": {},
   "outputs": [],
   "source": [
    "import matplotlib.pyplot as plt"
   ]
  },
  {
   "cell_type": "code",
   "execution_count": 30,
   "id": "70e9b833",
   "metadata": {},
   "outputs": [],
   "source": [
    "import numpy as np"
   ]
  },
  {
   "cell_type": "code",
   "execution_count": 31,
   "id": "dbad8f19",
   "metadata": {},
   "outputs": [],
   "source": [
    "import geopandas as gpd"
   ]
  },
  {
   "cell_type": "code",
   "execution_count": 32,
   "id": "4c030811",
   "metadata": {},
   "outputs": [],
   "source": [
    "import seaborn as sns"
   ]
  },
  {
   "cell_type": "code",
   "execution_count": 33,
   "id": "70ed999b",
   "metadata": {},
   "outputs": [],
   "source": [
    "# import folium"
   ]
  },
  {
   "cell_type": "code",
   "execution_count": 34,
   "id": "88459ead",
   "metadata": {},
   "outputs": [],
   "source": [
    "import pandas as pd  \n",
    "  \n",
    "# assign data of lists.  \n",
    "data = {'Country':['Netherlands','South Korea','New Zealand','Sweden','U.A.E','United Kingdom','Switzerland','Denmark','Canada','Spain','Germany','Hong Kong','Israel','Saudi Arabia','Australia','Belgium','France','Ireland','Singapore','Taiwan','Japan','Australia','Malaysia','Russia','United States','Argentina','Poland','Italy','Greece','Romania','Portugal','Turkey','Brazil','Vietnam','Mexico','Morocco','Thailand','Colombia','Philippines','Indonesia','South Africa','Egypt','India','Nigeria','Kenya'],'Percentage_View_Rate':[95,94,93.9,93.8,93.4,92.2,92,92,91.9,91.6,91.5,91.4,91.3,90.8,89.3,88.6,88.3,88.1,88,87.3,86.7,86.1,84.1,80.2,79.4,78.1,77,74.9,74.6,73.9,73.7,72.9,70.6,68.4,68,66.6,63.3,63.1,61,55,53.3,53.3,37,26.4,23.2]}  \n",
    "  \n",
    "# Create DataFrame  \n",
    "df = pd.DataFrame(data)"
   ]
  },
  {
   "cell_type": "code",
   "execution_count": 35,
   "id": "6c3b4bc9",
   "metadata": {},
   "outputs": [
    {
     "name": "stdout",
     "output_type": "stream",
     "text": [
      "           Country  Percentage_View_Rate\n",
      "0      Netherlands                  95.0\n",
      "1      South Korea                  94.0\n",
      "2      New Zealand                  93.9\n",
      "3           Sweden                  93.8\n",
      "4            U.A.E                  93.4\n",
      "5   United Kingdom                  92.2\n",
      "6      Switzerland                  92.0\n",
      "7          Denmark                  92.0\n",
      "8           Canada                  91.9\n",
      "9            Spain                  91.6\n",
      "10         Germany                  91.5\n",
      "11       Hong Kong                  91.4\n",
      "12          Israel                  91.3\n",
      "13    Saudi Arabia                  90.8\n",
      "14       Australia                  89.3\n",
      "15         Belgium                  88.6\n",
      "16          France                  88.3\n",
      "17         Ireland                  88.1\n",
      "18       Singapore                  88.0\n",
      "19          Taiwan                  87.3\n",
      "20           Japan                  86.7\n",
      "21       Australia                  86.1\n",
      "22        Malaysia                  84.1\n",
      "23          Russia                  80.2\n",
      "24   United States                  79.4\n",
      "25       Argentina                  78.1\n",
      "26          Poland                  77.0\n",
      "27           Italy                  74.9\n",
      "28          Greece                  74.6\n",
      "29         Romania                  73.9\n",
      "30        Portugal                  73.7\n",
      "31          Turkey                  72.9\n",
      "32          Brazil                  70.6\n",
      "33         Vietnam                  68.4\n",
      "34          Mexico                  68.0\n",
      "35         Morocco                  66.6\n",
      "36        Thailand                  63.3\n",
      "37        Colombia                  63.1\n",
      "38     Philippines                  61.0\n",
      "39       Indonesia                  55.0\n",
      "40    South Africa                  53.3\n",
      "41           Egypt                  53.3\n",
      "42           India                  37.0\n",
      "43         Nigeria                  26.4\n",
      "44           Kenya                  23.2\n"
     ]
    }
   ],
   "source": [
    "print(df)"
   ]
  },
  {
   "cell_type": "code",
   "execution_count": 36,
   "id": "e1e61900",
   "metadata": {},
   "outputs": [
    {
     "data": {
      "text/html": [
       "<div>\n",
       "<style scoped>\n",
       "    .dataframe tbody tr th:only-of-type {\n",
       "        vertical-align: middle;\n",
       "    }\n",
       "\n",
       "    .dataframe tbody tr th {\n",
       "        vertical-align: top;\n",
       "    }\n",
       "\n",
       "    .dataframe thead th {\n",
       "        text-align: right;\n",
       "    }\n",
       "</style>\n",
       "<table border=\"1\" class=\"dataframe\">\n",
       "  <thead>\n",
       "    <tr style=\"text-align: right;\">\n",
       "      <th></th>\n",
       "      <th>Country</th>\n",
       "      <th>Percentage_View_Rate</th>\n",
       "    </tr>\n",
       "  </thead>\n",
       "  <tbody>\n",
       "    <tr>\n",
       "      <th>0</th>\n",
       "      <td>Netherlands</td>\n",
       "      <td>95.0</td>\n",
       "    </tr>\n",
       "    <tr>\n",
       "      <th>1</th>\n",
       "      <td>South Korea</td>\n",
       "      <td>94.0</td>\n",
       "    </tr>\n",
       "    <tr>\n",
       "      <th>2</th>\n",
       "      <td>New Zealand</td>\n",
       "      <td>93.9</td>\n",
       "    </tr>\n",
       "    <tr>\n",
       "      <th>3</th>\n",
       "      <td>Sweden</td>\n",
       "      <td>93.8</td>\n",
       "    </tr>\n",
       "    <tr>\n",
       "      <th>4</th>\n",
       "      <td>U.A.E</td>\n",
       "      <td>93.4</td>\n",
       "    </tr>\n",
       "    <tr>\n",
       "      <th>5</th>\n",
       "      <td>United Kingdom</td>\n",
       "      <td>92.2</td>\n",
       "    </tr>\n",
       "    <tr>\n",
       "      <th>6</th>\n",
       "      <td>Switzerland</td>\n",
       "      <td>92.0</td>\n",
       "    </tr>\n",
       "    <tr>\n",
       "      <th>7</th>\n",
       "      <td>Denmark</td>\n",
       "      <td>92.0</td>\n",
       "    </tr>\n",
       "  </tbody>\n",
       "</table>\n",
       "</div>"
      ],
      "text/plain": [
       "          Country  Percentage_View_Rate\n",
       "0     Netherlands                  95.0\n",
       "1     South Korea                  94.0\n",
       "2     New Zealand                  93.9\n",
       "3          Sweden                  93.8\n",
       "4           U.A.E                  93.4\n",
       "5  United Kingdom                  92.2\n",
       "6     Switzerland                  92.0\n",
       "7         Denmark                  92.0"
      ]
     },
     "execution_count": 36,
     "metadata": {},
     "output_type": "execute_result"
    }
   ],
   "source": [
    "df.head(8)"
   ]
  },
  {
   "cell_type": "code",
   "execution_count": 37,
   "id": "47c31bab",
   "metadata": {},
   "outputs": [],
   "source": [
    "df.rename(columns={'Percentage_View_Rate':'Percentage_Rate'},inplace=True)"
   ]
  },
  {
   "cell_type": "code",
   "execution_count": 38,
   "id": "017972a5",
   "metadata": {},
   "outputs": [
    {
     "name": "stdout",
     "output_type": "stream",
     "text": [
      "           Country  Percentage_Rate\n",
      "0      Netherlands             95.0\n",
      "1      South Korea             94.0\n",
      "2      New Zealand             93.9\n",
      "3           Sweden             93.8\n",
      "4            U.A.E             93.4\n",
      "5   United Kingdom             92.2\n",
      "6      Switzerland             92.0\n",
      "7          Denmark             92.0\n",
      "8           Canada             91.9\n",
      "9            Spain             91.6\n",
      "10         Germany             91.5\n",
      "11       Hong Kong             91.4\n",
      "12          Israel             91.3\n",
      "13    Saudi Arabia             90.8\n",
      "14       Australia             89.3\n",
      "15         Belgium             88.6\n",
      "16          France             88.3\n",
      "17         Ireland             88.1\n",
      "18       Singapore             88.0\n",
      "19          Taiwan             87.3\n",
      "20           Japan             86.7\n",
      "21       Australia             86.1\n",
      "22        Malaysia             84.1\n",
      "23          Russia             80.2\n",
      "24   United States             79.4\n",
      "25       Argentina             78.1\n",
      "26          Poland             77.0\n",
      "27           Italy             74.9\n",
      "28          Greece             74.6\n",
      "29         Romania             73.9\n",
      "30        Portugal             73.7\n",
      "31          Turkey             72.9\n",
      "32          Brazil             70.6\n",
      "33         Vietnam             68.4\n",
      "34          Mexico             68.0\n",
      "35         Morocco             66.6\n",
      "36        Thailand             63.3\n",
      "37        Colombia             63.1\n",
      "38     Philippines             61.0\n",
      "39       Indonesia             55.0\n",
      "40    South Africa             53.3\n",
      "41           Egypt             53.3\n",
      "42           India             37.0\n",
      "43         Nigeria             26.4\n",
      "44           Kenya             23.2\n"
     ]
    }
   ],
   "source": [
    "print(df)"
   ]
  }
 ],
 "metadata": {
  "kernelspec": {
   "display_name": "Python 3",
   "language": "python",
   "name": "python3"
  },
  "language_info": {
   "codemirror_mode": {
    "name": "ipython",
    "version": 3
   },
   "file_extension": ".py",
   "mimetype": "text/x-python",
   "name": "python",
   "nbconvert_exporter": "python",
   "pygments_lexer": "ipython3",
   "version": "3.9.7"
  }
 },
 "nbformat": 4,
 "nbformat_minor": 5
}
